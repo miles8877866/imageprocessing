{
 "cells": [
  {
   "cell_type": "code",
   "execution_count": 68,
   "metadata": {},
   "outputs": [],
   "source": [
    "import numpy as np\n",
    "import cv2"
   ]
  },
  {
   "cell_type": "code",
   "execution_count": 67,
   "metadata": {},
   "outputs": [],
   "source": [
    "img = np.zeros([512, 512, 3], dtype = 'uint8')#RGB-img is 3-channel\n",
    "BGRW = np.array([[255, 0, 0], [0, 255, 0], [0, 0, 255], [255, 255, 255]]) # BGR "
   ]
  },
  {
   "cell_type": "code",
   "execution_count": 95,
   "metadata": {},
   "outputs": [],
   "source": [
    "rowCounts = 0 #每一個row的初始顏色，第一列為0，第二列為1\n",
    "\n",
    "for k in range(8):\n",
    "    colerindex = (rowCounts % 4) #B:0, G:1, E:2, W:3\n",
    "    for s in range(8):\n",
    "        for i in range((k * 64), (k * 64) + 64):\n",
    "            for j in range((s * 64), (s * 64) + 64):\n",
    "                img[i][j][:] = BGRW[colerindex % 4]\n",
    "        colerindex = colerindex + 1\n",
    "    rowCounts = rowCounts + 1"
   ]
  },
  {
   "cell_type": "code",
   "execution_count": 96,
   "metadata": {},
   "outputs": [
    {
     "data": {
      "text/plain": [
       "True"
      ]
     },
     "execution_count": 96,
     "metadata": {},
     "output_type": "execute_result"
    }
   ],
   "source": [
    "# print(img)\n",
    "cv2.imwrite('h2.jpg', img)"
   ]
  },
  {
   "cell_type": "code",
   "execution_count": null,
   "metadata": {},
   "outputs": [],
   "source": []
  },
  {
   "cell_type": "code",
   "execution_count": null,
   "metadata": {},
   "outputs": [],
   "source": []
  },
  {
   "cell_type": "code",
   "execution_count": null,
   "metadata": {},
   "outputs": [],
   "source": []
  }
 ],
 "metadata": {
  "kernelspec": {
   "display_name": "Python 3",
   "language": "python",
   "name": "python3"
  },
  "language_info": {
   "codemirror_mode": {
    "name": "ipython",
    "version": 3
   },
   "file_extension": ".py",
   "mimetype": "text/x-python",
   "name": "python",
   "nbconvert_exporter": "python",
   "pygments_lexer": "ipython3",
   "version": "3.8.5"
  }
 },
 "nbformat": 4,
 "nbformat_minor": 4
}
