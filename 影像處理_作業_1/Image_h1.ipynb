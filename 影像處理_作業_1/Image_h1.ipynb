{
 "cells": [
  {
   "cell_type": "code",
   "execution_count": 33,
   "metadata": {},
   "outputs": [],
   "source": [
    "import numpy as np\n",
    "import cv2"
   ]
  },
  {
   "cell_type": "code",
   "execution_count": 81,
   "metadata": {},
   "outputs": [],
   "source": [
    "sideLen = 512 #圖片邊長\n",
    "grayScale = 0 #黑色為初始值，255為白色\n",
    "sideCounts = 2 #多少count後灰階值要加一\n",
    "count = 0\n",
    "img = np.zeros([sideLen, sideLen], dtype = 'uint8')"
   ]
  },
  {
   "cell_type": "code",
   "execution_count": 125,
   "metadata": {},
   "outputs": [],
   "source": [
    "def diagonal_left(matrix):\n",
    "    count = 0\n",
    "    grayScale = 0 #黑色為初始值，255為白色\n",
    "    sideCounts = 4 #多少count後灰階值要加一(一邊兩倍，兩邊四倍)\n",
    "    row = len(matrix)\n",
    "    col = len(matrix[0])\n",
    "    k=0\n",
    "    result = []\n",
    "    for i in range(row):\n",
    "        for j in range(k,col):  # j順序遍歷\n",
    "            if(count == sideCounts):\n",
    "                count = 0\n",
    "                grayScale = grayScale + 1\n",
    "            lst = []\n",
    "            i1, j1 = i, j  # i1,j1用於方便同一對角線元素的新增，否則改變i,j影響開頭元素的選擇\n",
    "            while i1 <= row - 1 and j1 >=0:\n",
    "                lst.append(matrix[i1][j1])\n",
    "                matrix[i1][j1] = grayScale\n",
    "                j1 -= 1\n",
    "                i1 += 1\n",
    "            if i==0 and j==col-1:\n",
    "                k=col-1\n",
    "            count = count + 1\n",
    "            result.append(lst)\n",
    "    return ('the result is: %s' % result)"
   ]
  },
  {
   "cell_type": "code",
   "execution_count": 126,
   "metadata": {
    "scrolled": true
   },
   "outputs": [
    {
     "name": "stdout",
     "output_type": "stream",
     "text": [
      "[[  0   0   0 ... 127 127 127]\n",
      " [  0   0   0 ... 127 127 128]\n",
      " [  0   0   1 ... 127 128 128]\n",
      " ...\n",
      " [127 127 127 ... 254 254 255]\n",
      " [127 127 128 ... 254 255 255]\n",
      " [127 128 128 ... 255 255 255]]\n"
     ]
    },
    {
     "data": {
      "text/plain": [
       "True"
      ]
     },
     "execution_count": 126,
     "metadata": {},
     "output_type": "execute_result"
    }
   ],
   "source": [
    "diagonal_left(img)\n",
    "print(img)\n",
    "cv2.imwrite('output.jpg', img)\n"
   ]
  }
 ],
 "metadata": {
  "kernelspec": {
   "display_name": "Python 3",
   "language": "python",
   "name": "python3"
  },
  "language_info": {
   "codemirror_mode": {
    "name": "ipython",
    "version": 3
   },
   "file_extension": ".py",
   "mimetype": "text/x-python",
   "name": "python",
   "nbconvert_exporter": "python",
   "pygments_lexer": "ipython3",
   "version": "3.8.5"
  }
 },
 "nbformat": 4,
 "nbformat_minor": 4
}
